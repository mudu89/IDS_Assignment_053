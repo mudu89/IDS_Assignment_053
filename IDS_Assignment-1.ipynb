{
  "cells": [
    {
      "cell_type": "markdown",
      "id": "9bda93ba",
      "metadata": {
        "id": "9bda93ba"
      },
      "source": [
        "# <center>        **Introduction to Data Science (S2-22_DSECLZG532)-ASSIGNMENT**</center>\n",
        "\n",
        "## Group No: 053\n",
        "\n",
        "## Group Member Names:\n",
        "1. Mohammed Mudassirullah Sheriff\n",
        "2. Suraj Kumar R C\n",
        "3. Bhavvya R Sureka\n",
        "4. Shaurya Mehta"
      ]
    },
    {
      "cell_type": "markdown",
      "id": "f5d80c60",
      "metadata": {
        "id": "f5d80c60"
      },
      "source": [
        "# 1. Business Understanding\n",
        "\n",
        "Students are expected to identify an analytical problem of your choice. You have to detail the Business Understanding part of your problem under this heading which basically addresses the following questions.\n",
        "\n",
        "   1. What is the business problem that you are trying to solve?\n",
        "   2. What data do you need to answer the above problem?\n",
        "   3. What are the different sources of data?\n",
        "   4. What kind of analytics task are you performing?\n",
        "\n",
        "Score: 1 Mark in total (0.25 mark each)"
      ]
    },
    {
      "cell_type": "raw",
      "id": "3298e121",
      "metadata": {
        "id": "3298e121",
        "vscode": {
          "languageId": "raw"
        }
      },
      "source": [
        "--------------Type the answers below this line--------------\n",
        "\n",
        "1. In today's competitive business, customers hold the key for success and the customer churn is major problem \n",
        " faced by the telecom companies in their businesses. Customer churn refers to the percentage of customers who stop \n",
        " using a company's services within a given period. In the telecom industry, churn occurs when subscribers switch to \n",
        " competitors, cancel their plans, or stop using the service altogether. This leads to high revenue loss, loss of \n",
        " brand reputation and high cost of acquisition. We are looking to provide a model to help predict customer churn \n",
        " and inturn help the business to device Optimizing Marketing Strategies, Retention Campaigns and Improve customer\n",
        " Satisfactions\n",
        "\n",
        "2. The Key features we would require to analyze and model a solution for the above problem statement are:\n",
        " Customer Demographics, Usage Patterns, Billing & Payment Data, Customer Support Interaction, Network Quality Metrics, \n",
        " Contract Type, Churn Label\n",
        "\n",
        "3. Kaggle Public Datasets available in the public domain\n",
        "   Dataset URL: https://www.kaggle.com/datasets/abdallahwagih/telco-customer-churn\n",
        "\n",
        "4. EDA - Churn distribution, Churn Prediction and Churn risk customer clustering."
      ]
    },
    {
      "cell_type": "markdown",
      "id": "3cc8e0cb",
      "metadata": {
        "id": "3cc8e0cb"
      },
      "source": [
        "# 2. Data Acquisition\n",
        "\n",
        "For the problem identified , find an appropriate data set (Your data set must\n",
        "be unique with minimum **20 features and 10k rows**) from any public data source.\n",
        "\n",
        "---\n",
        "\n",
        "\n",
        "\n",
        "## 2.1 Download the data directly\n",
        "\n"
      ]
    },
    {
      "cell_type": "code",
      "execution_count": 22,
      "id": "4b51d895",
      "metadata": {
        "id": "4b51d895"
      },
      "outputs": [
        {
          "name": "stdout",
          "output_type": "stream",
          "text": [
            "Requirement already satisfied: kaggle in e:\\mudassir\\mtech\\semester 1\\introduction to data science\\ids_assignment_053\\.venv\\lib\\site-packages (1.6.17)\n",
            "Requirement already satisfied: six>=1.10 in e:\\mudassir\\mtech\\semester 1\\introduction to data science\\ids_assignment_053\\.venv\\lib\\site-packages (from kaggle) (1.17.0)\n",
            "Requirement already satisfied: certifi>=2023.7.22 in e:\\mudassir\\mtech\\semester 1\\introduction to data science\\ids_assignment_053\\.venv\\lib\\site-packages (from kaggle) (2025.1.31)\n",
            "Requirement already satisfied: python-dateutil in e:\\mudassir\\mtech\\semester 1\\introduction to data science\\ids_assignment_053\\.venv\\lib\\site-packages (from kaggle) (2.9.0.post0)\n",
            "Requirement already satisfied: requests in e:\\mudassir\\mtech\\semester 1\\introduction to data science\\ids_assignment_053\\.venv\\lib\\site-packages (from kaggle) (2.32.3)\n",
            "Requirement already satisfied: tqdm in e:\\mudassir\\mtech\\semester 1\\introduction to data science\\ids_assignment_053\\.venv\\lib\\site-packages (from kaggle) (4.67.1)\n",
            "Requirement already satisfied: python-slugify in e:\\mudassir\\mtech\\semester 1\\introduction to data science\\ids_assignment_053\\.venv\\lib\\site-packages (from kaggle) (8.0.4)\n",
            "Requirement already satisfied: urllib3 in e:\\mudassir\\mtech\\semester 1\\introduction to data science\\ids_assignment_053\\.venv\\lib\\site-packages (from kaggle) (2.3.0)\n",
            "Requirement already satisfied: bleach in e:\\mudassir\\mtech\\semester 1\\introduction to data science\\ids_assignment_053\\.venv\\lib\\site-packages (from kaggle) (6.2.0)\n",
            "Requirement already satisfied: webencodings in e:\\mudassir\\mtech\\semester 1\\introduction to data science\\ids_assignment_053\\.venv\\lib\\site-packages (from bleach->kaggle) (0.5.1)\n",
            "Requirement already satisfied: text-unidecode>=1.3 in e:\\mudassir\\mtech\\semester 1\\introduction to data science\\ids_assignment_053\\.venv\\lib\\site-packages (from python-slugify->kaggle) (1.3)\n",
            "Requirement already satisfied: charset-normalizer<4,>=2 in e:\\mudassir\\mtech\\semester 1\\introduction to data science\\ids_assignment_053\\.venv\\lib\\site-packages (from requests->kaggle) (3.4.1)\n",
            "Requirement already satisfied: idna<4,>=2.5 in e:\\mudassir\\mtech\\semester 1\\introduction to data science\\ids_assignment_053\\.venv\\lib\\site-packages (from requests->kaggle) (3.10)\n",
            "Requirement already satisfied: colorama in e:\\mudassir\\mtech\\semester 1\\introduction to data science\\ids_assignment_053\\.venv\\lib\\site-packages (from tqdm->kaggle) (0.4.6)\n",
            "Dataset URL: https://www.kaggle.com/datasets/abdallahwagih/telco-customer-churn\n"
          ]
        },
        {
          "name": "stderr",
          "output_type": "stream",
          "text": [
            "e:\\Mudassir\\MTech\\Semester 1\\Introduction to Data Science\\IDS_Assignment_053\\.venv\\Lib\\site-packages\\tqdm\\auto.py:21: TqdmWarning: IProgress not found. Please update jupyter and ipywidgets. See https://ipywidgets.readthedocs.io/en/stable/user_install.html\n",
            "  from .autonotebook import tqdm as notebook_tqdm\n"
          ]
        }
      ],
      "source": [
        "##---------Type the code below this line-----------------\n",
        "\n",
        "# Install Kaggle to download dataset from kaggle.com\n",
        "! pip install kaggle\n",
        "\n",
        "import os\n",
        "os.environ['KAGGLE_USERNAME'] = 'mudassirsheriff'\n",
        "os.environ['KAGGLE_KEY'] = 'f7892b671c9df4a3f144bce6aa5c0675'\n",
        "\n",
        "# Authentication and dataset download from kaggle using Kaggle API\n",
        "import kaggle as kg\n",
        "\n",
        "kg.api.authenticate()\n",
        "\n",
        "kg.api.dataset_download_files(dataset=\"abdallahwagih/telco-customer-churn\", path=\"./dataset\", unzip=True)\n",
        "\n",
        "from huggingface_hub import hf_hub_download\n",
        "\n",
        "REPO_ID = \"aai510-group1/telco-customer-churn\"\n",
        "FILE_NAME = \"train.csv\"\n",
        "hf_hub_download(repo_id=REPO_ID, filename=FILE_NAME, repo_type=\"dataset\", local_dir=\"./dataset\")\n",
        "\n",
        "# Set the dataset path for further processing\n",
        "kaggle_dataset_path = os.path.join(os.path.abspath(\"\"),\"dataset\\Telco_customer_churn.xlsx\")\n",
        "hf_dataset_path = os.path.join(os.path.abspath(\"\"),\"dataset\\\\train.csv\")"
      ]
    },
    {
      "cell_type": "markdown",
      "id": "49530d0c",
      "metadata": {
        "id": "49530d0c"
      },
      "source": [
        "## 2.2 Code for converting the above downloaded data into a dataframe"
      ]
    },
    {
      "cell_type": "code",
      "execution_count": 24,
      "id": "c1f4c171",
      "metadata": {
        "id": "c1f4c171"
      },
      "outputs": [
        {
          "name": "stdout",
          "output_type": "stream",
          "text": [
            "Requirement already satisfied: pandas in e:\\mudassir\\mtech\\semester 1\\introduction to data science\\ids_assignment_053\\.venv\\lib\\site-packages (2.2.3)\n",
            "Requirement already satisfied: numpy>=1.23.2 in e:\\mudassir\\mtech\\semester 1\\introduction to data science\\ids_assignment_053\\.venv\\lib\\site-packages (from pandas) (2.2.3)\n",
            "Requirement already satisfied: python-dateutil>=2.8.2 in e:\\mudassir\\mtech\\semester 1\\introduction to data science\\ids_assignment_053\\.venv\\lib\\site-packages (from pandas) (2.9.0.post0)\n",
            "Requirement already satisfied: pytz>=2020.1 in e:\\mudassir\\mtech\\semester 1\\introduction to data science\\ids_assignment_053\\.venv\\lib\\site-packages (from pandas) (2025.1)\n",
            "Requirement already satisfied: tzdata>=2022.7 in e:\\mudassir\\mtech\\semester 1\\introduction to data science\\ids_assignment_053\\.venv\\lib\\site-packages (from pandas) (2025.1)\n",
            "Requirement already satisfied: six>=1.5 in e:\\mudassir\\mtech\\semester 1\\introduction to data science\\ids_assignment_053\\.venv\\lib\\site-packages (from python-dateutil>=2.8.2->pandas) (1.17.0)\n",
            "Requirement already satisfied: openpyxl in e:\\mudassir\\mtech\\semester 1\\introduction to data science\\ids_assignment_053\\.venv\\lib\\site-packages (3.1.5)\n",
            "Requirement already satisfied: et-xmlfile in e:\\mudassir\\mtech\\semester 1\\introduction to data science\\ids_assignment_053\\.venv\\lib\\site-packages (from openpyxl) (2.0.0)\n"
          ]
        }
      ],
      "source": [
        "##---------Type the code below this line------------------##\n",
        "\n",
        "! pip install pandas \n",
        "! pip install openpyxl\n",
        "\n",
        "import pandas as pd\n",
        "\n",
        "df1 = pd.read_excel(kaggle_dataset_path)\n",
        "\n",
        "df2 = pd.read_csv(hf_dataset_path)\n",
        "df2.rename(columns={\"Churn\": \"Churn Label\", \"Churn Category\": \"Churn Value\", \"Customer ID\": \"CustomerID\", \"Tenure in Months\": \"Tenure Months\", \"Device Protection Plan\": \"Device Protection\", \"Monthly Charge\": \"Monthly Charges\"}, inplace=True)\n",
        "\n",
        "df = pd.concat([df1, df2])\n"
      ]
    },
    {
      "cell_type": "markdown",
      "id": "7b1fea4d",
      "metadata": {
        "id": "7b1fea4d"
      },
      "source": [
        "## 2.3 Confirm the data has been correctly by displaying the first 5 and last 5 records."
      ]
    },
    {
      "cell_type": "code",
      "execution_count": 25,
      "id": "624e6c58",
      "metadata": {
        "id": "624e6c58"
      },
      "outputs": [
        {
          "data": {
            "text/html": [
              "<div>\n",
              "<style scoped>\n",
              "    .dataframe tbody tr th:only-of-type {\n",
              "        vertical-align: middle;\n",
              "    }\n",
              "\n",
              "    .dataframe tbody tr th {\n",
              "        vertical-align: top;\n",
              "    }\n",
              "\n",
              "    .dataframe thead th {\n",
              "        text-align: right;\n",
              "    }\n",
              "</style>\n",
              "<table border=\"1\" class=\"dataframe\">\n",
              "  <thead>\n",
              "    <tr style=\"text-align: right;\">\n",
              "      <th></th>\n",
              "      <th>CustomerID</th>\n",
              "      <th>Count</th>\n",
              "      <th>Country</th>\n",
              "      <th>State</th>\n",
              "      <th>City</th>\n",
              "      <th>Zip Code</th>\n",
              "      <th>Lat Long</th>\n",
              "      <th>Latitude</th>\n",
              "      <th>Longitude</th>\n",
              "      <th>Gender</th>\n",
              "      <th>...</th>\n",
              "      <th>Quarter</th>\n",
              "      <th>Referred a Friend</th>\n",
              "      <th>Satisfaction Score</th>\n",
              "      <th>Streaming Music</th>\n",
              "      <th>Total Extra Data Charges</th>\n",
              "      <th>Total Long Distance Charges</th>\n",
              "      <th>Total Refunds</th>\n",
              "      <th>Total Revenue</th>\n",
              "      <th>Under 30</th>\n",
              "      <th>Unlimited Data</th>\n",
              "    </tr>\n",
              "  </thead>\n",
              "  <tbody>\n",
              "    <tr>\n",
              "      <th>4220</th>\n",
              "      <td>2369-FEVNO</td>\n",
              "      <td>NaN</td>\n",
              "      <td>United States</td>\n",
              "      <td>California</td>\n",
              "      <td>Long Beach</td>\n",
              "      <td>90806</td>\n",
              "      <td>33.802664, -118.179971</td>\n",
              "      <td>33.802664</td>\n",
              "      <td>-118.179971</td>\n",
              "      <td>Male</td>\n",
              "      <td>...</td>\n",
              "      <td>Q3</td>\n",
              "      <td>0.0</td>\n",
              "      <td>3.0</td>\n",
              "      <td>0.0</td>\n",
              "      <td>0.0</td>\n",
              "      <td>7.76</td>\n",
              "      <td>0.00</td>\n",
              "      <td>27.66</td>\n",
              "      <td>0.0</td>\n",
              "      <td>0.0</td>\n",
              "    </tr>\n",
              "    <tr>\n",
              "      <th>4221</th>\n",
              "      <td>4824-GUCBY</td>\n",
              "      <td>NaN</td>\n",
              "      <td>United States</td>\n",
              "      <td>California</td>\n",
              "      <td>San Francisco</td>\n",
              "      <td>94127</td>\n",
              "      <td>37.736535, -122.45732</td>\n",
              "      <td>37.736535</td>\n",
              "      <td>-122.457320</td>\n",
              "      <td>Female</td>\n",
              "      <td>...</td>\n",
              "      <td>Q3</td>\n",
              "      <td>0.0</td>\n",
              "      <td>4.0</td>\n",
              "      <td>0.0</td>\n",
              "      <td>0.0</td>\n",
              "      <td>515.46</td>\n",
              "      <td>29.88</td>\n",
              "      <td>2306.48</td>\n",
              "      <td>0.0</td>\n",
              "      <td>1.0</td>\n",
              "    </tr>\n",
              "    <tr>\n",
              "      <th>4222</th>\n",
              "      <td>0859-YGKFW</td>\n",
              "      <td>NaN</td>\n",
              "      <td>United States</td>\n",
              "      <td>California</td>\n",
              "      <td>Olivehurst</td>\n",
              "      <td>95961</td>\n",
              "      <td>39.082568, -121.55325</td>\n",
              "      <td>39.082568</td>\n",
              "      <td>-121.553250</td>\n",
              "      <td>Male</td>\n",
              "      <td>...</td>\n",
              "      <td>Q3</td>\n",
              "      <td>1.0</td>\n",
              "      <td>5.0</td>\n",
              "      <td>0.0</td>\n",
              "      <td>0.0</td>\n",
              "      <td>505.08</td>\n",
              "      <td>0.00</td>\n",
              "      <td>850.98</td>\n",
              "      <td>0.0</td>\n",
              "      <td>0.0</td>\n",
              "    </tr>\n",
              "    <tr>\n",
              "      <th>4223</th>\n",
              "      <td>0699-NDKJM</td>\n",
              "      <td>NaN</td>\n",
              "      <td>United States</td>\n",
              "      <td>California</td>\n",
              "      <td>Westlake Village</td>\n",
              "      <td>91361</td>\n",
              "      <td>34.130992, -118.894673</td>\n",
              "      <td>34.130992</td>\n",
              "      <td>-118.894673</td>\n",
              "      <td>Female</td>\n",
              "      <td>...</td>\n",
              "      <td>Q3</td>\n",
              "      <td>1.0</td>\n",
              "      <td>3.0</td>\n",
              "      <td>1.0</td>\n",
              "      <td>0.0</td>\n",
              "      <td>0.00</td>\n",
              "      <td>0.00</td>\n",
              "      <td>3437.45</td>\n",
              "      <td>0.0</td>\n",
              "      <td>1.0</td>\n",
              "    </tr>\n",
              "    <tr>\n",
              "      <th>4224</th>\n",
              "      <td>7049-GKVZY</td>\n",
              "      <td>NaN</td>\n",
              "      <td>United States</td>\n",
              "      <td>California</td>\n",
              "      <td>Berkeley</td>\n",
              "      <td>94702</td>\n",
              "      <td>37.866009, -122.286228</td>\n",
              "      <td>37.866009</td>\n",
              "      <td>-122.286228</td>\n",
              "      <td>Female</td>\n",
              "      <td>...</td>\n",
              "      <td>Q3</td>\n",
              "      <td>0.0</td>\n",
              "      <td>3.0</td>\n",
              "      <td>1.0</td>\n",
              "      <td>0.0</td>\n",
              "      <td>215.73</td>\n",
              "      <td>0.00</td>\n",
              "      <td>1603.08</td>\n",
              "      <td>0.0</td>\n",
              "      <td>1.0</td>\n",
              "    </tr>\n",
              "  </tbody>\n",
              "</table>\n",
              "<p>5 rows × 54 columns</p>\n",
              "</div>"
            ],
            "text/plain": [
              "      CustomerID  Count        Country       State              City  \\\n",
              "4220  2369-FEVNO    NaN  United States  California        Long Beach   \n",
              "4221  4824-GUCBY    NaN  United States  California     San Francisco   \n",
              "4222  0859-YGKFW    NaN  United States  California        Olivehurst   \n",
              "4223  0699-NDKJM    NaN  United States  California  Westlake Village   \n",
              "4224  7049-GKVZY    NaN  United States  California          Berkeley   \n",
              "\n",
              "      Zip Code                Lat Long   Latitude   Longitude  Gender  ...  \\\n",
              "4220     90806  33.802664, -118.179971  33.802664 -118.179971    Male  ...   \n",
              "4221     94127   37.736535, -122.45732  37.736535 -122.457320  Female  ...   \n",
              "4222     95961   39.082568, -121.55325  39.082568 -121.553250    Male  ...   \n",
              "4223     91361  34.130992, -118.894673  34.130992 -118.894673  Female  ...   \n",
              "4224     94702  37.866009, -122.286228  37.866009 -122.286228  Female  ...   \n",
              "\n",
              "     Quarter Referred a Friend Satisfaction Score  Streaming Music  \\\n",
              "4220      Q3               0.0                3.0              0.0   \n",
              "4221      Q3               0.0                4.0              0.0   \n",
              "4222      Q3               1.0                5.0              0.0   \n",
              "4223      Q3               1.0                3.0              1.0   \n",
              "4224      Q3               0.0                3.0              1.0   \n",
              "\n",
              "     Total Extra Data Charges Total Long Distance Charges Total Refunds  \\\n",
              "4220                      0.0                        7.76          0.00   \n",
              "4221                      0.0                      515.46         29.88   \n",
              "4222                      0.0                      505.08          0.00   \n",
              "4223                      0.0                        0.00          0.00   \n",
              "4224                      0.0                      215.73          0.00   \n",
              "\n",
              "     Total Revenue Under 30 Unlimited Data  \n",
              "4220         27.66      0.0            0.0  \n",
              "4221       2306.48      0.0            1.0  \n",
              "4222        850.98      0.0            0.0  \n",
              "4223       3437.45      0.0            1.0  \n",
              "4224       1603.08      0.0            1.0  \n",
              "\n",
              "[5 rows x 54 columns]"
            ]
          },
          "execution_count": 25,
          "metadata": {},
          "output_type": "execute_result"
        }
      ],
      "source": [
        "##---------Type the code below this line------------------##\n",
        "\n",
        "# Displaying the first 5 records\n",
        "df.head()\n",
        "\n",
        "# Displaying the last 5 records\n",
        "df.tail()\n",
        "\n"
      ]
    },
    {
      "cell_type": "markdown",
      "id": "bb84fc56",
      "metadata": {
        "id": "bb84fc56"
      },
      "source": [
        "## 2.4 Display the column headings, statistical information, description and statistical summary of the data."
      ]
    },
    {
      "cell_type": "code",
      "execution_count": 26,
      "id": "086ad28e",
      "metadata": {
        "id": "086ad28e"
      },
      "outputs": [
        {
          "name": "stdout",
          "output_type": "stream",
          "text": [
            "<class 'pandas.core.frame.DataFrame'>\n",
            "Index: 11268 entries, 0 to 4224\n",
            "Data columns (total 54 columns):\n",
            " #   Column                             Non-Null Count  Dtype  \n",
            "---  ------                             --------------  -----  \n",
            " 0   CustomerID                         11268 non-null  object \n",
            " 1   Count                              7043 non-null   float64\n",
            " 2   Country                            11268 non-null  object \n",
            " 3   State                              11268 non-null  object \n",
            " 4   City                               11268 non-null  object \n",
            " 5   Zip Code                           11268 non-null  int64  \n",
            " 6   Lat Long                           11268 non-null  object \n",
            " 7   Latitude                           11268 non-null  float64\n",
            " 8   Longitude                          11268 non-null  float64\n",
            " 9   Gender                             11268 non-null  object \n",
            " 10  Senior Citizen                     11268 non-null  object \n",
            " 11  Partner                            11268 non-null  object \n",
            " 12  Dependents                         11268 non-null  object \n",
            " 13  Tenure Months                      11268 non-null  int64  \n",
            " 14  Phone Service                      11268 non-null  object \n",
            " 15  Multiple Lines                     11268 non-null  object \n",
            " 16  Internet Service                   11268 non-null  object \n",
            " 17  Online Security                    11268 non-null  object \n",
            " 18  Online Backup                      11268 non-null  object \n",
            " 19  Device Protection                  11268 non-null  object \n",
            " 20  Tech Support                       7043 non-null   object \n",
            " 21  Streaming TV                       11268 non-null  object \n",
            " 22  Streaming Movies                   11268 non-null  object \n",
            " 23  Contract                           11268 non-null  object \n",
            " 24  Paperless Billing                  11268 non-null  object \n",
            " 25  Payment Method                     11268 non-null  object \n",
            " 26  Monthly Charges                    11268 non-null  float64\n",
            " 27  Total Charges                      11268 non-null  object \n",
            " 28  Churn Label                        11268 non-null  object \n",
            " 29  Churn Value                        8164 non-null   object \n",
            " 30  Churn Score                        11268 non-null  int64  \n",
            " 31  CLTV                               11268 non-null  int64  \n",
            " 32  Churn Reason                       2990 non-null   object \n",
            " 33  Age                                4225 non-null   float64\n",
            " 34  Avg Monthly GB Download            4225 non-null   float64\n",
            " 35  Avg Monthly Long Distance Charges  4225 non-null   float64\n",
            " 36  Customer Status                    4225 non-null   object \n",
            " 37  Internet Type                      3339 non-null   object \n",
            " 38  Married                            4225 non-null   float64\n",
            " 39  Number of Dependents               4225 non-null   float64\n",
            " 40  Number of Referrals                4225 non-null   float64\n",
            " 41  Offer                              1901 non-null   object \n",
            " 42  Population                         4225 non-null   float64\n",
            " 43  Premium Tech Support               4225 non-null   float64\n",
            " 44  Quarter                            4225 non-null   object \n",
            " 45  Referred a Friend                  4225 non-null   float64\n",
            " 46  Satisfaction Score                 4225 non-null   float64\n",
            " 47  Streaming Music                    4225 non-null   float64\n",
            " 48  Total Extra Data Charges           4225 non-null   float64\n",
            " 49  Total Long Distance Charges        4225 non-null   float64\n",
            " 50  Total Refunds                      4225 non-null   float64\n",
            " 51  Total Revenue                      4225 non-null   float64\n",
            " 52  Under 30                           4225 non-null   float64\n",
            " 53  Unlimited Data                     4225 non-null   float64\n",
            "dtypes: float64(21), int64(4), object(29)\n",
            "memory usage: 4.7+ MB\n"
          ]
        }
      ],
      "source": [
        "##---------Type the code below this line------------------##\n",
        "\n",
        "df.info()"
      ]
    },
    {
      "cell_type": "markdown",
      "id": "812edb18",
      "metadata": {
        "id": "812edb18"
      },
      "source": [
        "## 2.5 Write your observations from the above.\n",
        "1. Size of the dataset\n",
        "2. What type of data attributes are there?\n",
        "3. Is there any null data that has to be cleaned?\n",
        "\n",
        "Score: 2 Marks in total (0.25 marks for 2.1, 0.25 marks for 2.2, 0.5 marks for 2.3, 0.25 marks for 2.4, 0.75 marks for 2.5)"
      ]
    },
    {
      "cell_type": "raw",
      "id": "60d80d2f",
      "metadata": {
        "id": "60d80d2f",
        "vscode": {
          "languageId": "raw"
        }
      },
      "source": [
        "--------------Type the answers below this line--------------\n",
        "\n",
        "1. The dataset consists of 11268 rows and 54 columns.\n",
        "\n",
        "2. We have below data attributes:\n",
        "\n",
        "3. Yes, there are null data which needs to be cleaned."
      ]
    },
    {
      "cell_type": "markdown",
      "id": "102e0e36",
      "metadata": {
        "id": "102e0e36"
      },
      "source": [
        "# 3. Data Preparation"
      ]
    },
    {
      "cell_type": "raw",
      "id": "637cb469",
      "metadata": {
        "id": "637cb469"
      },
      "source": [
        "If input data is numerical or categorical, do 3.1, 3.2 and 3.4\n",
        "If input data is text, do 3.3 and 3.4"
      ]
    },
    {
      "cell_type": "markdown",
      "id": "2bcb953b",
      "metadata": {
        "id": "2bcb953b"
      },
      "source": [
        "## 3.1 Check for\n",
        "\n",
        "* duplicate data\n",
        "* missing data\n",
        "* data inconsistencies\n"
      ]
    },
    {
      "cell_type": "code",
      "execution_count": null,
      "id": "5a5b960e",
      "metadata": {
        "id": "5a5b960e"
      },
      "outputs": [],
      "source": [
        "##---------Type the code below this line------------------##"
      ]
    },
    {
      "cell_type": "markdown",
      "id": "06fdebf8",
      "metadata": {
        "id": "06fdebf8"
      },
      "source": [
        "## 3.2 Apply techiniques\n",
        "* to remove duplicate data\n",
        "* to impute or remove missing data\n",
        "* to remove data inconsistencies\n"
      ]
    },
    {
      "cell_type": "code",
      "execution_count": null,
      "id": "dd3118eb",
      "metadata": {
        "id": "dd3118eb"
      },
      "outputs": [],
      "source": [
        "##---------Type the code below this line------------------##"
      ]
    },
    {
      "cell_type": "markdown",
      "id": "2139fedf",
      "metadata": {
        "id": "2139fedf"
      },
      "source": [
        "## 3.3 Encode categorical data"
      ]
    },
    {
      "cell_type": "code",
      "execution_count": null,
      "id": "da6886fc",
      "metadata": {
        "id": "da6886fc"
      },
      "outputs": [],
      "source": [
        "##---------Type the code below this line------------------##"
      ]
    },
    {
      "cell_type": "code",
      "execution_count": null,
      "id": "a3b2cdee",
      "metadata": {
        "id": "a3b2cdee"
      },
      "outputs": [],
      "source": [
        "##---------Type the code below this line------------------##"
      ]
    },
    {
      "cell_type": "markdown",
      "id": "e3cec4fc",
      "metadata": {
        "id": "e3cec4fc"
      },
      "source": [
        "## 3.4 Report\n",
        "\n",
        "Mention and justify the method adopted\n",
        "* to remove duplicate data, if present\n",
        "* to impute or remove missing data, if present\n",
        "* to remove data inconsistencies, if present\n",
        "\n",
        "OR for textdata\n",
        "* How many tokens after step 3?\n",
        "* how may tokens after stop words filtering?\n",
        "\n",
        "If the any of the above are not present, then also add in the report below.\n",
        "\n",
        "Score: 2 Marks (based on the dataset you have, the data prepreation you had to do and report typed, marks will be distributed between 3.1, 3.2, 3.3 and 3.4)"
      ]
    },
    {
      "cell_type": "code",
      "execution_count": null,
      "id": "3ab84ce6",
      "metadata": {
        "id": "3ab84ce6"
      },
      "outputs": [],
      "source": [
        "##---------Type the code below this line------------------##"
      ]
    },
    {
      "cell_type": "code",
      "execution_count": null,
      "id": "f0fea7e8",
      "metadata": {
        "id": "f0fea7e8"
      },
      "outputs": [],
      "source": [
        "##---------Type the code below this line------------------##"
      ]
    },
    {
      "cell_type": "markdown",
      "id": "793cd04b",
      "metadata": {
        "id": "793cd04b"
      },
      "source": [
        "## 3.5 Identify the target variables.\n",
        "\n",
        "* Separate the data from the target such that the dataset is in the form of (X,y) or (Features, Label)\n",
        "\n",
        "* Discretize / Encode the target variable or perform one-hot encoding on the target or any other as and if required.\n",
        "\n",
        "* Report the observations\n",
        "\n",
        "Score: 1 Mark"
      ]
    },
    {
      "cell_type": "code",
      "execution_count": null,
      "id": "c9089b57",
      "metadata": {
        "id": "c9089b57"
      },
      "outputs": [],
      "source": [
        "##---------Type the code below this line------------------##"
      ]
    },
    {
      "cell_type": "markdown",
      "id": "3ae0b5d2",
      "metadata": {
        "id": "3ae0b5d2"
      },
      "source": [
        "# 4. Data Exploration using various plots\n",
        "\n"
      ]
    },
    {
      "cell_type": "markdown",
      "id": "186bf4d7",
      "metadata": {
        "id": "186bf4d7"
      },
      "source": [
        "## 4.1 Scatter plot of each quantitative attribute with the target.\n",
        "\n",
        "Score: 1 Mark"
      ]
    },
    {
      "cell_type": "code",
      "execution_count": null,
      "id": "868d7b27",
      "metadata": {
        "id": "868d7b27"
      },
      "outputs": [],
      "source": [
        "##---------Type the code below this line------------------##"
      ]
    },
    {
      "cell_type": "markdown",
      "id": "575f9e37",
      "metadata": {
        "id": "575f9e37"
      },
      "source": [
        "## 4.2 EDA using visuals\n",
        "* Use (minimum) 2 plots (pair plot, heat map, correlation plot, regression plot...) to identify the optimal set of attributes that can be used for classification.\n",
        "* Name them, explain why you think they can be helpful in the task and perform the plot as well. Unless proper justification for the choice of plots given, no credit will be awarded.\n",
        "\n",
        "Score: 2 Marks"
      ]
    },
    {
      "cell_type": "code",
      "execution_count": null,
      "id": "4d614311",
      "metadata": {
        "id": "4d614311"
      },
      "outputs": [],
      "source": [
        "##---------Type the code below this line------------------##"
      ]
    },
    {
      "cell_type": "markdown",
      "id": "bdbc82a1",
      "metadata": {
        "id": "bdbc82a1"
      },
      "source": [
        "# 5. Data Wrangling\n",
        "\n"
      ]
    },
    {
      "cell_type": "markdown",
      "id": "ca214eb3",
      "metadata": {
        "id": "ca214eb3"
      },
      "source": [
        "## 5.1 Univariate Filters\n",
        "\n",
        "#### Numerical and Categorical Data\n",
        "* Identify top 5 significant features by evaluating each feature independently with respect to the target/other variable by exploring\n",
        "1. Mutual Information (Information Gain)\n",
        "2. Gini index\n",
        "3. Gain Ratio\n",
        "4. Chi-Squared test\n",
        "5. Strenth of Association\n",
        "\n",
        "(From the above 5 you are required to use only any <b>two</b>)\n",
        "\n",
        "\n",
        "\n",
        "Score: 3 Marks"
      ]
    },
    {
      "cell_type": "code",
      "execution_count": null,
      "id": "a85e9754",
      "metadata": {
        "id": "a85e9754"
      },
      "outputs": [],
      "source": [
        "##---------Type the code below this line------------------##"
      ]
    },
    {
      "cell_type": "markdown",
      "id": "38031f24",
      "metadata": {
        "id": "38031f24"
      },
      "source": [
        "## 5.2 Report observations\n",
        "\n",
        "Write your observations from the results of each method. Clearly justify your choice of the method.\n",
        "\n",
        "Score 1 mark"
      ]
    },
    {
      "cell_type": "code",
      "execution_count": null,
      "id": "85c7a3a8",
      "metadata": {
        "id": "85c7a3a8"
      },
      "outputs": [],
      "source": [
        "##---------Type the code below this line------------------##"
      ]
    },
    {
      "cell_type": "markdown",
      "id": "06f1173c",
      "metadata": {
        "id": "06f1173c"
      },
      "source": [
        "# 6. Implement Machine Learning Techniques\n",
        "\n",
        "Use any 2 ML tasks\n",
        "1. Classification  \n",
        "\n",
        "2. Clustering  \n",
        "\n",
        "3. Association Analysis\n",
        "\n",
        "4. Anomaly detection\n",
        "\n",
        "You may use algorithms included in the course, e.g. Decision Tree, K-means etc. or an algorithm you learnt on your own with a brief explanation.\n",
        "A clear justification have to be given for why a certain algorithm was chosen to address your problem.\n",
        "\n",
        "Score: 4 Marks (2 marks each for each algorithm)"
      ]
    },
    {
      "cell_type": "markdown",
      "id": "040afed8",
      "metadata": {
        "id": "040afed8"
      },
      "source": [
        "## 6.1 ML technique 1 + Justification"
      ]
    },
    {
      "cell_type": "code",
      "execution_count": null,
      "id": "7042235d",
      "metadata": {
        "id": "7042235d"
      },
      "outputs": [],
      "source": [
        "##---------Type the code below this line------------------##\n"
      ]
    },
    {
      "cell_type": "markdown",
      "id": "f610ca8c",
      "metadata": {
        "id": "f610ca8c"
      },
      "source": [
        "## 6.2 ML technique 2 + Justification"
      ]
    },
    {
      "cell_type": "code",
      "execution_count": null,
      "id": "9b75e079",
      "metadata": {
        "id": "9b75e079"
      },
      "outputs": [],
      "source": [
        "##---------Type the code below this line------------------##"
      ]
    },
    {
      "cell_type": "markdown",
      "id": "eb57940c",
      "metadata": {
        "id": "eb57940c"
      },
      "source": [
        "## 7. Conclusion\n",
        "\n",
        "Compare the performance of the ML techniques used.\n",
        "\n",
        "Derive values for preformance study metrics like accuracy, precision, recall, F1 Score, AUC-ROC etc to compare the ML algos and plot them. A proper comparision based on different metrics should be done and not just accuracy alone, only then the comparision becomes authentic. You may use Confusion matrix, classification report, Word cloud etc as per the requirement of your application/problem.\n",
        "\n",
        "Score 1 Mark"
      ]
    },
    {
      "cell_type": "code",
      "execution_count": null,
      "id": "9bf06eb1",
      "metadata": {
        "id": "9bf06eb1"
      },
      "outputs": [],
      "source": [
        "##---------Type the code below this line------------------##"
      ]
    },
    {
      "cell_type": "markdown",
      "id": "79ed0137",
      "metadata": {
        "id": "79ed0137"
      },
      "source": [
        "## 8. Solution\n",
        "\n",
        "What is the solution that is proposed to solve the business problem discussed in Section 1. Also share your learnings while working through solving the problem in terms of challenges, observations, decisions made etc.\n",
        "\n",
        "Score 2 Marks"
      ]
    },
    {
      "cell_type": "markdown",
      "id": "324448eb",
      "metadata": {
        "id": "324448eb"
      },
      "source": [
        "--------------Type the answers below this line--------------"
      ]
    },
    {
      "cell_type": "raw",
      "id": "68ab61d5",
      "metadata": {
        "id": "68ab61d5"
      },
      "source": [
        "##---------Type the answer below this line------------------##"
      ]
    },
    {
      "cell_type": "markdown",
      "id": "RcDDQlfbZQ7E",
      "metadata": {
        "id": "RcDDQlfbZQ7E"
      },
      "source": [
        "##NOTE\n",
        "All Late Submissions will incur a penalty of -2 marks. Do ensure on time submission to avoid penalty.\n",
        "\n",
        "Good Luck!!!"
      ]
    }
  ],
  "metadata": {
    "colab": {
      "provenance": []
    },
    "kernelspec": {
      "display_name": ".venv",
      "language": "python",
      "name": "python3"
    },
    "language_info": {
      "codemirror_mode": {
        "name": "ipython",
        "version": 3
      },
      "file_extension": ".py",
      "mimetype": "text/x-python",
      "name": "python",
      "nbconvert_exporter": "python",
      "pygments_lexer": "ipython3",
      "version": "3.11.4"
    }
  },
  "nbformat": 4,
  "nbformat_minor": 5
}
